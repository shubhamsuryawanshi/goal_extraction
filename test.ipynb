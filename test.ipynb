{
 "cells": [
  {
   "cell_type": "code",
   "execution_count": 1,
   "id": "30063d1d-5d6c-48c7-92ab-f7f4214d146f",
   "metadata": {},
   "outputs": [
    {
     "name": "stderr",
     "output_type": "stream",
     "text": [
      "/Users/shubham/goal_extraction/venv/lib/python3.9/site-packages/tqdm/auto.py:22: TqdmWarning: IProgress not found. Please update jupyter and ipywidgets. See https://ipywidgets.readthedocs.io/en/stable/user_install.html\n",
      "  from .autonotebook import tqdm as notebook_tqdm\n"
     ]
    }
   ],
   "source": [
    "import spacy"
   ]
  },
  {
   "cell_type": "code",
   "execution_count": 4,
   "id": "53118bb7-8e57-43c1-ac64-afcd28c0410a",
   "metadata": {},
   "outputs": [],
   "source": [
    "# model = spacy.load('en_core_web_trf')"
   ]
  },
  {
   "cell_type": "code",
   "execution_count": 11,
   "id": "fc833b2d-0eb1-496b-b53a-7b8820a100f2",
   "metadata": {},
   "outputs": [
    {
     "name": "stdout",
     "output_type": "stream",
     "text": [
      "{'coref_clusters_1': [We, our, we, we, us, our, Our, We, our, our, we, we, we], 'coref_clusters_2': [ONE adidas, our company, the business], 'coref_clusters_3': [a set of initiatives that will enable our company to work smarter, more efficiently and in a more aligned way, the initiatives], 'coref_clusters_4': [initial positive results in terms of generating incremental profits, these benefits], 'coref_clusters_5': [2019, 2019], 'coref_clusters_6': [These, They]}\n"
     ]
    }
   ],
   "source": [
    "# Python\n",
    "import spacy\n",
    "nlp = spacy.load(\"en_coreference_web_trf\")\n",
    "doc = nlp(\"We continuously strive for operational excellence. ONE adidas encompasses a set of initiatives that will enable our company to work smarter, more efficiently and in a more aligned way. After having successfully operationalized the initiatives under the Brand Leadership pillar  SEE GLOSSARY in 2018, we are now focusing on the remaining two pillars – Operating and Marketing Efficiency. In order to create a more scalable business model, we will therefore focus on those opportunities that enable us to standardize and harmonize current processes and procedures. In this context, 2019 saw the continuation of several initiatives which are aimed at significantly improving our operating efficiency in the years to come. Our disciplined execution has already led to initial positive results in terms of generating incremental profits. We decided to use these benefits to reinvest into the business and continue our investment efforts into our scalable business model. In 2019, we focused on the expansion of Global Business Services, where we continue to work on the standardization and harmonization of processes in areas such as Accounting and HR Services. Furthermore, in the last year we saw the Non-Trade Procurement initiative  SEE GLOSSARY deliver considerable savings as a result of successfully operationalizing the approach. These and other initiatives are designed to enable scalability and operating leverage. They are generating benefits already now and are expected to deliver further positive impact in the future\") \n",
    "print(doc.spans)"
   ]
  }
 ],
 "metadata": {
  "kernelspec": {
   "display_name": "Python 3 (ipykernel)",
   "language": "python",
   "name": "python3"
  },
  "language_info": {
   "codemirror_mode": {
    "name": "ipython",
    "version": 3
   },
   "file_extension": ".py",
   "mimetype": "text/x-python",
   "name": "python",
   "nbconvert_exporter": "python",
   "pygments_lexer": "ipython3",
   "version": "3.9.6"
  }
 },
 "nbformat": 4,
 "nbformat_minor": 5
}
