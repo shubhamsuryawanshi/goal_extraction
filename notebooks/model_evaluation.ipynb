{
 "cells": [
  {
   "cell_type": "code",
   "execution_count": 3,
   "id": "93f86050-1811-421d-98e9-1820dca9da2c",
   "metadata": {},
   "outputs": [],
   "source": [
    "%reset -f\n",
    "\n",
    "import spacy\n",
    "from spacy.tokens import Doc\n",
    "import re\n",
    "import PyPDF2\n",
    "import pandas as pd\n",
    "import numpy as np\n",
    "from sklearn.model_selection import train_test_split\n",
    "from sklearn.metrics import accuracy_score, recall_score, precision_score, f1_score\n",
    "import torch\n",
    "from transformers import TrainingArguments, Trainer\n",
    "from transformers import AutoTokenizer, AutoModelForSequenceClassification, DataCollatorWithPadding\n",
    "from transformers import EarlyStoppingCallback\n",
    "\n",
    "\n",
    "from sklearn.metrics import f1_score"
   ]
  },
  {
   "cell_type": "code",
   "execution_count": 4,
   "id": "49e28cc6-cbd1-4c0d-a514-223286f60eb3",
   "metadata": {},
   "outputs": [],
   "source": [
    "test_df = pd.read_csv('../data/balanced dataset/test_dataset_208_new.csv')\n",
    "# test_df = pd.read_csv('balanced dataset/test_dataset_208_new.csv')\n",
    "\n",
    "# test_df = pd.read_csv('redacted_training_data.csv', sep=';')\n",
    "# test_df = test_df.rename(columns={'is_goal': 'label'})\n",
    "# def func(s):\n",
    "#     if s == 'Y':\n",
    "#         return 1\n",
    "#     else:\n",
    "#         return 0\n",
    "\n",
    "# test_df['label'] = test_df['label'].apply(func)\n",
    "\n",
    "\n",
    "\n",
    "action_statements = list(test_df['sentence'])"
   ]
  },
  {
   "cell_type": "code",
   "execution_count": 5,
   "id": "b058ff86-3949-448d-b34a-4e038dff6864",
   "metadata": {},
   "outputs": [
    {
     "name": "stderr",
     "output_type": "stream",
     "text": [
      "***** Running Prediction *****\n",
      "  Num examples = 208\n",
      "  Batch size = 8\n"
     ]
    },
    {
     "data": {
      "text/html": [],
      "text/plain": [
       "<IPython.core.display.HTML object>"
      ]
     },
     "metadata": {},
     "output_type": "display_data"
    }
   ],
   "source": [
    "# Fourth stage - Inference\n",
    "base_model = 'bert-base-uncased'\n",
    "tokenizer = AutoTokenizer.from_pretrained(base_model)\n",
    "action_statements_tokenized = tokenizer(action_statements, padding=True, truncation=True, max_length=512)\n",
    "\n",
    "class Dataset(torch.utils.data.Dataset):\n",
    "    def __init__(self, encodings, labels=None):\n",
    "        self.encodings = encodings\n",
    "        self.labels = labels\n",
    "\n",
    "    def __getitem__(self, idx):\n",
    "        item = {key: torch.tensor(val[idx]) for key, val in self.encodings.items()}\n",
    "        if self.labels:\n",
    "            item['labels'] = torch.tensor(self.labels[idx])\n",
    "        return item\n",
    "\n",
    "    def __len__(self):\n",
    "        return len(self.encodings['input_ids'])\n",
    "\n",
    "test_dataset = Dataset(action_statements_tokenized)\n",
    "\n",
    "model_path = '../models/mar29/checkpoint-160'\n",
    "model = AutoModelForSequenceClassification.from_pretrained(model_path, num_labels=2)\n",
    "test_trainer = Trainer(model)\n",
    "\n",
    "\n",
    "raw_pred, _, _ = test_trainer.predict(test_dataset)\n",
    "y_pred = np.argmax(raw_pred, axis=1)\n",
    "\n",
    "test_df['prediction'] = pd.Series(y_pred)\n",
    "# y_pred = pd.Series(y_pred)\n",
    "# goal_indices = list(y_pred[y_pred==1].index)\n",
    "\n",
    "# c = 1\n",
    "# for i in goal_indices:\n",
    "#     print(f'Goal{c}')\n",
    "#     print(action_statements[i])\n",
    "#     print('')\n",
    "#     c += 1"
   ]
  },
  {
   "cell_type": "code",
   "execution_count": 6,
   "id": "7bb40c6f-d0d5-4b7f-9bd8-2ce57b8085f5",
   "metadata": {},
   "outputs": [
    {
     "name": "stdout",
     "output_type": "stream",
     "text": [
      "Predicted   0   1\n",
      "Actual           \n",
      "0          87  17\n",
      "1          11  93\n"
     ]
    }
   ],
   "source": [
    "confusion_matrix = pd.crosstab(test_df['label'], test_df['prediction'], rownames=['Actual'], colnames=['Predicted'])\n",
    "print (confusion_matrix)"
   ]
  },
  {
   "cell_type": "code",
   "execution_count": 27,
   "id": "30d6c5e0-19c4-4807-abff-d342436d5a62",
   "metadata": {},
   "outputs": [
    {
     "name": "stdout",
     "output_type": "stream",
     "text": [
      "F1 Score achieved: 0.87\n",
      "Accuracy Score achieved: 0.87\n",
      "Precision Score achieved: 0.85\n",
      "Recall Score achieved: 0.89\n"
     ]
    }
   ],
   "source": [
    "from sklearn.metrics import f1_score, accuracy_score, recall_score, precision_score\n",
    "\n",
    "f1 = f1_score(test_df['label'], test_df['prediction'])\n",
    "accuracy = accuracy_score(test_df['label'], test_df['prediction'])\n",
    "precision = precision_score(test_df['label'], test_df['prediction'])\n",
    "recall = recall_score(test_df['label'], test_df['prediction'])\n",
    "\n",
    "\n",
    "print(f'F1 Score achieved: {f1:.2}')\n",
    "print(f'Accuracy Score achieved: {accuracy:.2}')\n",
    "print(f'Precision Score achieved: {precision:.2}')\n",
    "print(f'Recall Score achieved: {recall:.2}')"
   ]
  },
  {
   "cell_type": "code",
   "execution_count": 8,
   "id": "7688b502-1ccb-4a59-bb2f-cc7f677ffbb8",
   "metadata": {},
   "outputs": [
    {
     "data": {
      "text/html": [
       "<div>\n",
       "<style scoped>\n",
       "    .dataframe tbody tr th:only-of-type {\n",
       "        vertical-align: middle;\n",
       "    }\n",
       "\n",
       "    .dataframe tbody tr th {\n",
       "        vertical-align: top;\n",
       "    }\n",
       "\n",
       "    .dataframe thead th {\n",
       "        text-align: right;\n",
       "    }\n",
       "</style>\n",
       "<table border=\"1\" class=\"dataframe\">\n",
       "  <thead>\n",
       "    <tr style=\"text-align: right;\">\n",
       "      <th>Predicted</th>\n",
       "      <th>0</th>\n",
       "      <th>1</th>\n",
       "    </tr>\n",
       "    <tr>\n",
       "      <th>Actual</th>\n",
       "      <th></th>\n",
       "      <th></th>\n",
       "    </tr>\n",
       "  </thead>\n",
       "  <tbody>\n",
       "    <tr>\n",
       "      <th>0</th>\n",
       "      <td>87</td>\n",
       "      <td>17</td>\n",
       "    </tr>\n",
       "    <tr>\n",
       "      <th>1</th>\n",
       "      <td>11</td>\n",
       "      <td>93</td>\n",
       "    </tr>\n",
       "  </tbody>\n",
       "</table>\n",
       "</div>"
      ],
      "text/plain": [
       "Predicted   0   1\n",
       "Actual           \n",
       "0          87  17\n",
       "1          11  93"
      ]
     },
     "execution_count": 8,
     "metadata": {},
     "output_type": "execute_result"
    }
   ],
   "source": [
    "confusion_matrix"
   ]
  },
  {
   "cell_type": "code",
   "execution_count": 15,
   "id": "73035b0b-fac5-4130-8ba4-f21ef6ff0894",
   "metadata": {},
   "outputs": [
    {
     "data": {
      "text/plain": [
       "array([[87, 17],\n",
       "       [11, 93]])"
      ]
     },
     "execution_count": 15,
     "metadata": {},
     "output_type": "execute_result"
    }
   ],
   "source": [
    "confusion_matrix.to_numpy()"
   ]
  },
  {
   "cell_type": "code",
   "execution_count": 25,
   "id": "e0469a82-cb4f-44f9-ae79-ab963c346af2",
   "metadata": {},
   "outputs": [
    {
     "data": {
      "image/png": "[encoded data removed]",
      "text/plain": [
       "<Figure size 640x480 with 2 Axes>"
      ]
     },
     "metadata": {},
     "output_type": "display_data"
    }
   ],
   "source": [
    "import seaborn as sn\n",
    "import pandas as pd\n",
    "import matplotlib.pyplot as plt\n",
    "\n",
    "# array = [[13,1,1,0,2,0],\n",
    "#          [3,9,6,0,1,0],\n",
    "#          [0,0,16,2,0,0],\n",
    "#          [0,0,0,13,0,0],\n",
    "#          [0,0,0,0,15,0],\n",
    "#          [0,0,1,0,0,15]]\n",
    "\n",
    "array = confusion_matrix.to_numpy()\n",
    "\n",
    "df_cm = pd.DataFrame(array, range(2), range(2))\n",
    "# plt.figure(figsize=(10,7))\n",
    "# sn.set(font_scale=1.2) # for label size\n",
    "ax = sn.heatmap(df_cm, annot=True, annot_kws={\"size\": 12}) # font size\n",
    "\n",
    "ax.set(ylabel='True Values', xlabel='Prediction')\n",
    "plt.show()"
   ]
  }
 ],
 "metadata": {
  "kernelspec": {
   "display_name": "Python 3 (ipykernel)",
   "language": "python",
   "name": "python3"
  },
  "language_info": {
   "codemirror_mode": {
    "name": "ipython",
    "version": 3
   },
   "file_extension": ".py",
   "mimetype": "text/x-python",
   "name": "python",
   "nbconvert_exporter": "python",
   "pygments_lexer": "ipython3",
   "version": "3.9.6"
  }
 },
 "nbformat": 4,
 "nbformat_minor": 5
}
