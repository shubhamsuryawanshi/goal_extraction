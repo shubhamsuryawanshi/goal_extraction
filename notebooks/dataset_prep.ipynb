{
 "cells": [
  {
   "cell_type": "code",
   "execution_count": 1,
   "id": "772e4c03-adf0-4e2c-b78d-4af64771f18b",
   "metadata": {},
   "outputs": [],
   "source": [
    "%reset -f\n",
    "import pandas as pd"
   ]
  },
  {
   "cell_type": "code",
   "execution_count": 11,
   "id": "305f4174-ce4a-4a76-a6d3-c504916e598b",
   "metadata": {},
   "outputs": [],
   "source": [
    "df = pd.read_csv('total.csv')"
   ]
  },
  {
   "cell_type": "code",
   "execution_count": 8,
   "id": "c4d6466a-71d5-446a-acf6-b2c0b449e259",
   "metadata": {},
   "outputs": [],
   "source": [
    "goals = df[df['label']==1].reset_index(drop=True)\n",
    "statements = df[df['label']==0].reset_index(drop=True)\n",
    "\n",
    "goals = goals.sample(frac=1)\n",
    "statements = statements.sample(frac=1)\n",
    "\n",
    "train_dataset = pd.concat([goals[1:901], statements[1:901]])\n",
    "train_dataset = train_dataset.sample(frac=1)\n",
    "\n",
    "train_dataset.to_csv('train_dataset_1802.csv', index=False)\n",
    "\n",
    "test_dataset = pd.concat([goals[901:], statements[3601:3705]])\n",
    "test_dataset = test_dataset.sample(frac=1)\n",
    "\n",
    "test_dataset.to_csv('test_dataset_208_new.csv', index=False)"
   ]
  },
  {
   "cell_type": "code",
   "execution_count": 9,
   "id": "c591d57d-ef8f-4ce8-8343-f20797e9f716",
   "metadata": {},
   "outputs": [
    {
     "data": {
      "text/plain": [
       "0    104\n",
       "1    104\n",
       "Name: label, dtype: int64"
      ]
     },
     "execution_count": 9,
     "metadata": {},
     "output_type": "execute_result"
    }
   ],
   "source": [
    "test_dataset['label'].value_counts()"
   ]
  },
  {
   "cell_type": "code",
   "execution_count": 10,
   "id": "a53e1631-1034-4539-9bc5-14ab353c79d9",
   "metadata": {},
   "outputs": [
    {
     "data": {
      "text/plain": [
       "0    900\n",
       "1    900\n",
       "Name: label, dtype: int64"
      ]
     },
     "execution_count": 10,
     "metadata": {},
     "output_type": "execute_result"
    }
   ],
   "source": [
    "train_dataset['label'].value_counts()"
   ]
  },
  {
   "cell_type": "markdown",
   "id": "c9cd5560-b189-4cee-ac32-45a3cbf65c1e",
   "metadata": {},
   "source": [
    "K Fold datasets"
   ]
  },
  {
   "cell_type": "code",
   "execution_count": 13,
   "id": "1ac876d7-e8d5-485f-94bf-1776ad387b43",
   "metadata": {},
   "outputs": [],
   "source": [
    "df = pd.read_csv('../data/dataset/train_dataset_4500.csv')\n",
    "\n",
    "df[:3600].to_csv('../data/folds/1/train.csv')\n",
    "df[3600:].to_csv('../data/folds/1/test.csv')\n",
    "\n",
    "pd.concat([df[:2700], df[3600:]]).to_csv('../data/folds/2/train.csv')\n",
    "df[2700:3600].to_csv('../data/folds/2/test.csv')\n",
    "\n",
    "pd.concat([df[:1800], df[2700:]]).to_csv('../data/folds/3/train.csv')\n",
    "df[1800:2700].to_csv('../data/folds/3/test.csv')\n",
    "\n",
    "pd.concat([df[:900], df[1800:]]).to_csv('../data/folds/4/train.csv')\n",
    "df[900:1800].to_csv('../data/folds/4/test.csv')\n",
    "\n",
    "df[900:].to_csv('../data/folds/5/train.csv')\n",
    "df[0:900].to_csv('../data/folds/5/test.csv')"
   ]
  }
 ],
 "metadata": {
  "kernelspec": {
   "display_name": "Python 3 (ipykernel)",
   "language": "python",
   "name": "python3"
  },
  "language_info": {
   "codemirror_mode": {
    "name": "ipython",
    "version": 3
   },
   "file_extension": ".py",
   "mimetype": "text/x-python",
   "name": "python",
   "nbconvert_exporter": "python",
   "pygments_lexer": "ipython3",
   "version": "3.9.6"
  }
 },
 "nbformat": 4,
 "nbformat_minor": 5
}
