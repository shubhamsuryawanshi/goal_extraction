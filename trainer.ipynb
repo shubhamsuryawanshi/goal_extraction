{
 "cells": [
  {
   "cell_type": "code",
   "execution_count": 1,
   "id": "015a61a6-6f47-4be7-b33d-5d5411357844",
   "metadata": {},
   "outputs": [],
   "source": [
    "%reset -f"
   ]
  },
  {
   "cell_type": "code",
   "execution_count": 2,
   "id": "d65c3b1b-755b-4633-9f80-2626fe263593",
   "metadata": {},
   "outputs": [
    {
     "name": "stderr",
     "output_type": "stream",
     "text": [
      "/opt/intel/inteloneapi/pytorch/latest/lib/python3.9/site-packages/scipy/__init__.py:146: UserWarning: A NumPy version >=1.16.5 and <1.23.0 is required for this version of SciPy (detected version 1.24.1\n",
      "  warnings.warn(f\"A NumPy version >={np_minversion} and <{np_maxversion}\"\n"
     ]
    }
   ],
   "source": [
    "import numpy as np\n",
    "import pandas as pd\n",
    "from sklearn.model_selection import train_test_split\n",
    "from sklearn.metrics import accuracy_score, recall_score, precision_score, f1_score\n",
    "import torch\n",
    "from transformers import TrainingArguments, Trainer, DataCollatorWithPadding\n",
    "from transformers import AutoTokenizer, AutoModelForSequenceClassification"
   ]
  },
  {
   "cell_type": "code",
   "execution_count": 3,
   "id": "0351cea9-14da-4501-9a2a-5b82d6b61dd9",
   "metadata": {},
   "outputs": [],
   "source": [
    "df = pd.read_csv('redacted_training_data.csv', sep=';')\n",
    "\n",
    "def func(s):\n",
    "    if s == 'Y':\n",
    "        return 1\n",
    "    else:\n",
    "        return 0\n",
    "\n",
    "df['is_goal'] = df['is_goal'].apply(func)\n",
    "\n",
    "# shuffle the DataFrame rows\n",
    "df = df.sample(frac=1)\n",
    "\n",
    "df = df.rename(columns={'is_goal': 'label'})"
   ]
  },
  {
   "cell_type": "code",
   "execution_count": 4,
   "id": "8cafe45a-380e-4545-a248-5425634b7699",
   "metadata": {},
   "outputs": [
    {
     "name": "stderr",
     "output_type": "stream",
     "text": [
      "Some weights of the model checkpoint at bert-base-uncased were not used when initializing BertForSequenceClassification: ['cls.seq_relationship.weight', 'cls.predictions.bias', 'cls.seq_relationship.bias', 'cls.predictions.transform.dense.weight', 'cls.predictions.decoder.weight', 'cls.predictions.transform.dense.bias', 'cls.predictions.transform.LayerNorm.weight', 'cls.predictions.transform.LayerNorm.bias']\n",
      "- This IS expected if you are initializing BertForSequenceClassification from the checkpoint of a model trained on another task or with another architecture (e.g. initializing a BertForSequenceClassification model from a BertForPreTraining model).\n",
      "- This IS NOT expected if you are initializing BertForSequenceClassification from the checkpoint of a model that you expect to be exactly identical (initializing a BertForSequenceClassification model from a BertForSequenceClassification model).\n",
      "Some weights of BertForSequenceClassification were not initialized from the model checkpoint at bert-base-uncased and are newly initialized: ['classifier.weight', 'classifier.bias']\n",
      "You should probably TRAIN this model on a down-stream task to be able to use it for predictions and inference.\n"
     ]
    }
   ],
   "source": [
    "base_model = 'bert-base-uncased'\n",
    "tokenizer = AutoTokenizer.from_pretrained(base_model)\n",
    "data_collator = DataCollatorWithPadding(tokenizer)\n",
    "model = AutoModelForSequenceClassification.from_pretrained(base_model, num_labels=2)"
   ]
  },
  {
   "cell_type": "code",
   "execution_count": 5,
   "id": "336a083a-4653-488e-9e0d-1daab4eb0be0",
   "metadata": {},
   "outputs": [],
   "source": [
    "X = list(df['sentence'])\n",
    "y = list(df['label'])\n",
    "\n",
    "X_tokenized = tokenizer(X, padding=True, truncation=True, max_length=512)\n",
    "\n",
    "# X_train, X_val, y_train, y_val = train_test_split(X, y, test_size=0.2)\n",
    "# X_train_tokenized = tokenizer(X_train, padding=True, truncation=True, max_length=512)\n",
    "# X_val_tokenized = tokenizer(X_val, padding=True, truncation=True, max_length=512)"
   ]
  },
  {
   "cell_type": "code",
   "execution_count": 6,
   "id": "ca125399-8e22-4f82-8471-59d467ca4723",
   "metadata": {},
   "outputs": [],
   "source": [
    "class Dataset(torch.utils.data.Dataset):\n",
    "    def __init__(self, encodings, labels=None):\n",
    "        self.encodings = encodings\n",
    "        self.labels = labels\n",
    "\n",
    "    def __getitem__(self, idx):\n",
    "        item = {key: torch.tensor(val[idx]) for key, val in self.encodings.items()}\n",
    "        if self.labels:\n",
    "            item['labels'] = torch.tensor(self.labels[idx])\n",
    "        return item\n",
    "\n",
    "    def __len__(self):\n",
    "        return len(self.encodings['input_ids'])\n",
    "\n",
    "\n",
    "train_dataset = Dataset(X_tokenized, y)\n",
    "# train_dataset = Dataset(X_train_tokenized, y_train)\n",
    "# val_dataset = Dataset(X_val_tokenized, y_val)"
   ]
  },
  {
   "cell_type": "code",
   "execution_count": null,
   "id": "1ef21db4-d5f1-4bbe-89bc-8630dfdd8866",
   "metadata": {},
   "outputs": [
    {
     "name": "stderr",
     "output_type": "stream",
     "text": [
      "/home/u177598/.local/lib/python3.9/site-packages/transformers/optimization.py:306: FutureWarning: This implementation of AdamW is deprecated and will be removed in a future version. Use the PyTorch implementation torch.optim.AdamW instead, or set `no_deprecation_warning=True` to disable this warning\n",
      "  warnings.warn(\n",
      "***** Running training *****\n",
      "  Num examples = 2210\n",
      "  Num Epochs = 11\n",
      "  Instantaneous batch size per device = 16\n",
      "  Total train batch size (w. parallel, distributed & accumulation) = 16\n",
      "  Gradient Accumulation steps = 1\n",
      "  Total optimization steps = 1529\n",
      "  Number of trainable parameters = 109483778\n",
      "You're using a BertTokenizerFast tokenizer. Please note that with a fast tokenizer, using the `__call__` method is faster than using a method to encode the text followed by a call to the `pad` method to get a padded encoding.\n"
     ]
    },
    {
     "data": {
      "text/html": [
       "\n",
       "    <div>\n",
       "      \n",
       "      <progress value='1396' max='1529' style='width:300px; height:20px; vertical-align: middle;'></progress>\n",
       "      [1396/1529 3:40:40 < 21:03, 0.11 it/s, Epoch 10.04/11]\n",
       "    </div>\n",
       "    <table border=\"1\" class=\"dataframe\">\n",
       "  <thead>\n",
       " <tr style=\"text-align: left;\">\n",
       "      <th>Step</th>\n",
       "      <th>Training Loss</th>\n",
       "    </tr>\n",
       "  </thead>\n",
       "  <tbody>\n",
       "    <tr>\n",
       "      <td>500</td>\n",
       "      <td>0.131400</td>\n",
       "    </tr>\n",
       "    <tr>\n",
       "      <td>1000</td>\n",
       "      <td>0.011000</td>\n",
       "    </tr>\n",
       "  </tbody>\n",
       "</table><p>"
      ],
      "text/plain": [
       "<IPython.core.display.HTML object>"
      ]
     },
     "metadata": {},
     "output_type": "display_data"
    },
    {
     "name": "stderr",
     "output_type": "stream",
     "text": [
      "Saving model checkpoint to feb15/checkpoint-500\n",
      "Configuration saved in feb15/checkpoint-500/config.json\n",
      "Model weights saved in feb15/checkpoint-500/pytorch_model.bin\n",
      "tokenizer config file saved in feb15/checkpoint-500/tokenizer_config.json\n",
      "Special tokens file saved in feb15/checkpoint-500/special_tokens_map.json\n",
      "Saving model checkpoint to feb15/checkpoint-1000\n",
      "Configuration saved in feb15/checkpoint-1000/config.json\n",
      "Model weights saved in feb15/checkpoint-1000/pytorch_model.bin\n",
      "tokenizer config file saved in feb15/checkpoint-1000/tokenizer_config.json\n",
      "Special tokens file saved in feb15/checkpoint-1000/special_tokens_map.json\n"
     ]
    }
   ],
   "source": [
    "# Define Trainer parameters\n",
    "def compute_metrics(p):\n",
    "    pred, labels = p\n",
    "    pred = np.argmax(pred, axis=1)\n",
    "\n",
    "    accuracy = accuracy_score(y_true=labels, y_pred=pred)\n",
    "    recall = recall_score(y_true=labels, y_pred=pred)\n",
    "    precision = precision_score(y_true=labels, y_pred=pred)\n",
    "    f1 = f1_score(y_true=labels, y_pred=pred)\n",
    "\n",
    "    return {'accuracy': accuracy, 'precision': precision, 'recall': recall, 'f1': f1}\n",
    "\n",
    "# Define Trainer\n",
    "# args = TrainingArguments(\n",
    "#     output_dir='output',\n",
    "#     evaluation_strategy='steps',\n",
    "#     eval_steps=250,\n",
    "#     per_device_train_batch_size=16,\n",
    "#     per_device_eval_batch_size=16,\n",
    "#     num_train_epochs=10,\n",
    "#     learning_rate=2e-5,\n",
    "#     seed=0,\n",
    "#     load_best_model_at_end=True,\n",
    "#     report_to='none'\n",
    "# )\n",
    "\n",
    "training_args = TrainingArguments(\n",
    "    output_dir='feb15',\n",
    "    per_device_train_batch_size=16,\n",
    "    per_device_eval_batch_size=16,\n",
    "    num_train_epochs=11,\n",
    "    learning_rate=5e-5,\n",
    "    weight_decay=0.01,\n",
    "    report_to='none'\n",
    ")\n",
    "\n",
    "trainer = Trainer(\n",
    "    model=model,\n",
    "    args=training_args,\n",
    "    train_dataset=train_dataset,\n",
    "    compute_metrics=compute_metrics,\n",
    "    data_collator=data_collator,\n",
    "    tokenizer=tokenizer,\n",
    ")\n",
    "\n",
    "trainer.train()"
   ]
  },
  {
   "cell_type": "code",
   "execution_count": null,
   "id": "77c34265-fcd6-4a09-bbd3-316a365844bc",
   "metadata": {},
   "outputs": [],
   "source": [
    "\n",
    "# # ----- 3. Predict -----#\n",
    "# # # Load test data\n",
    "# # test_data = df\n",
    "# # X_test = list(test_data['label'])\n",
    "# # X_test_tokenized = tokenizer(X_test, padding=True, truncation=True, max_length=512)\n",
    "\n",
    "# # Create torch dataset\n",
    "# test_dataset = Dataset(X_val_tokenized)\n",
    "\n",
    "# # Loading fine-tuned model\n",
    "# model_path = 'test-trainer/checkpoint-2000'\n",
    "# model = AutoModelForSequenceClassification.from_pretrained(model_path, num_labels=2)\n",
    "# test_trainer = Trainer(model)\n",
    "\n",
    "\n",
    "# raw_pred, _, _ = test_trainer.predict(test_dataset)\n",
    "# y_pred = np.argmax(raw_pred, axis=1)\n",
    "\n",
    "# y_pred = pd.Series(y_pred)\n",
    "# goal_indices = list(t[t==1].index)\n",
    "\n",
    "# c = 1\n",
    "# for i in goal_indices:\n",
    "#     print(f'Goal{c}')\n",
    "#     print(X_val[i])\n",
    "#     print('')\n",
    "#     c += 1\n"
   ]
  }
 ],
 "metadata": {
  "kernelspec": {
   "display_name": "Python 3 (ipykernel)",
   "language": "python",
   "name": "python3"
  },
  "language_info": {
   "codemirror_mode": {
    "name": "ipython",
    "version": 3
   },
   "file_extension": ".py",
   "mimetype": "text/x-python",
   "name": "python",
   "nbconvert_exporter": "python",
   "pygments_lexer": "ipython3",
   "version": "3.9.6"
  }
 },
 "nbformat": 4,
 "nbformat_minor": 5
}
