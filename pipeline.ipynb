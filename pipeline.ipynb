{
 "cells": [
  {
   "cell_type": "code",
   "execution_count": 103,
   "id": "30063d1d-5d6c-48c7-92ab-f7f4214d146f",
   "metadata": {},
   "outputs": [],
   "source": [
    "import spacy\n",
    "from spacy.tokens import Doc\n",
    "import re"
   ]
  },
  {
   "cell_type": "code",
   "execution_count": 104,
   "id": "fc833b2d-0eb1-496b-b53a-7b8820a100f2",
   "metadata": {},
   "outputs": [
    {
     "name": "stdout",
     "output_type": "stream",
     "text": [
      "Diversity in workforce is important. Continental is aware that legal and cultural requirements can vary in a global market. Continental expect all of Continental suppliers to be guided by fairness, honesty and responsibility in all aspects of all of our suppliers business. Continental supplier code establishes important standards that match the Continental corporate values. Every supplier must comply strictly with important standards that match the Continental corporate values . Continental use important standards that match the Continental corporate values to define requirements for good working conditions, then check compliance with requirements for good working conditions through Continental on-site audits.\n"
     ]
    }
   ],
   "source": [
    "input_string = 'Diversity in workforce is important. Continental is aware that legal and cultural requirements can vary in a global market. We expect all of our suppliers to be guided by fairness, honesty and responsibility in all aspects of their business. Our supplier code establishes important standards that match the Continental corporate values. Every supplier must comply strictly with these standards. We use them to define requirements for good working conditions, then check compliance with these requirements through our on-site audits.'\n",
    "# input_string = 'At Bosch, we value diversity. The company intends to increase workforce diversity by 40%'\n",
    "\n",
    "coref_model = spacy.load('en_coreference_web_trf')\n",
    "doc = coref_model(input_string) \n",
    "\n",
    "def resolve_references(doc):\n",
    "    token_mention_mapper = {}\n",
    "    output_string = ''\n",
    "    clusters = [val for key, val in doc.spans.items() if key.startswith('coref_cluster')]\n",
    "\n",
    "    for cluster in clusters:\n",
    "        first_mention = cluster[0]\n",
    "        for mention_span in list(cluster)[1:]:\n",
    "            token_mention_mapper[mention_span[0].idx] = first_mention.text + mention_span[0].whitespace_\n",
    "            for token in mention_span[1:]:\n",
    "                token_mention_mapper[token.idx] = ''\n",
    "\n",
    "    for token in doc:\n",
    "        if token.idx in token_mention_mapper:\n",
    "            output_string += token_mention_mapper[token.idx]\n",
    "        else:\n",
    "            output_string += token.text + token.whitespace_\n",
    "\n",
    "    return output_string\n",
    "\n",
    "resolved_string = resolve_references(doc)\n",
    "print(resolved_string)"
   ]
  },
  {
   "cell_type": "code",
   "execution_count": 105,
   "id": "d99e5079-9911-408b-927d-bb555380335c",
   "metadata": {},
   "outputs": [
    {
     "name": "stdout",
     "output_type": "stream",
     "text": [
      "Diversity in workforce is important. ORG is aware that legal and cultural requirements can vary in a global market. ORG expect all of ORG suppliers to be guided by fairness, honesty and responsibility in all aspects of all of our suppliers business. ORG supplier code establishes important standards that match the ORG corporate values. Every supplier must comply strictly with important standards that match the ORG corporate values . ORG use important standards that match the ORG corporate values to define requirements for good working conditions, then check compliance with requirements for good working conditions through ORG on-site audits.\n"
     ]
    }
   ],
   "source": [
    "nlp = spacy.load('en_core_web_trf')\n",
    "ner_op_string = resolved_string\n",
    "\n",
    "def show_ents(doc):\n",
    "    global ner_op_string\n",
    "    if doc.ents:\n",
    "        for ent in doc.ents:\n",
    "            # print(ent.text+' - ' +str(ent.start_char) +' - '+ str(ent.end_char) +' - '+ent.label_+ ' - '+str(spacy.explain(ent.label_)))\n",
    "            if ent.label_ == 'ORG':\n",
    "                word_length = ent.end_char - ent.start_char\n",
    "                ner_op_string = ner_op_string[:ent.start_char] + 'O'*(word_length) + ner_op_string[ent.end_char:]\n",
    "    else:\n",
    "        print('No named entities found.')\n",
    "    return ner_op_string\n",
    "    \n",
    "doc = nlp(resolved_string)\n",
    "show_ents(doc)\n",
    "ner_op_string = re.sub(r'O{2,}', 'ORG',ner_op_string)\n",
    "print(ner_op_string)"
   ]
  },
  {
   "cell_type": "code",
   "execution_count": 106,
   "id": "5a7aadc3-92a3-4ed0-bae8-f5a3678a8067",
   "metadata": {},
   "outputs": [
    {
     "name": "stdout",
     "output_type": "stream",
     "text": [
      "ORG is aware that legal and cultural requirements can vary in a global market. ORG expect all of ORG suppliers to be guided by fairness, honesty and responsibility in all aspects of all of our suppliers business. ORG supplier code establishes important standards that match the ORG corporate values. Every supplier must comply strictly with important standards that match the ORG corporate values . ORG use important standards that match the ORG corporate values to define requirements for good working conditions, then check compliance with requirements for good working conditions through ORG on-site audits.\n"
     ]
    }
   ],
   "source": [
    "def get_org_sentences(ner_op_string):\n",
    "    temp_list = ner_op_string.split('. ')\n",
    "    return '. '.join(list(filter(lambda x: 'ORG' in x, temp_list)))\n",
    "\n",
    "print(get_org_sentences(ner_op_string))"
   ]
  }
 ],
 "metadata": {
  "kernelspec": {
   "display_name": "Python 3 (ipykernel)",
   "language": "python",
   "name": "python3"
  },
  "language_info": {
   "codemirror_mode": {
    "name": "ipython",
    "version": 3
   },
   "file_extension": ".py",
   "mimetype": "text/x-python",
   "name": "python",
   "nbconvert_exporter": "python",
   "pygments_lexer": "ipython3",
   "version": "3.9.6"
  }
 },
 "nbformat": 4,
 "nbformat_minor": 5
}
