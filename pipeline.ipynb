{
 "cells": [
  {
   "cell_type": "code",
   "execution_count": 55,
   "id": "30063d1d-5d6c-48c7-92ab-f7f4214d146f",
   "metadata": {},
   "outputs": [],
   "source": [
    "import spacy\n",
    "from spacy.tokens import Doc\n",
    "import re"
   ]
  },
  {
   "cell_type": "code",
   "execution_count": 56,
   "id": "fc833b2d-0eb1-496b-b53a-7b8820a100f2",
   "metadata": {},
   "outputs": [
    {
     "name": "stdout",
     "output_type": "stream",
     "text": [
      "At Bosch, Bosch do things differently. Bosch intends to increase workforce diversity by 40%\n"
     ]
    }
   ],
   "source": [
    "coref_model = spacy.load(\"en_coreference_web_trf\")\n",
    "doc = coref_model(\"At Bosch, we do things differently. The company intends to increase workforce diversity by 40%\") \n",
    "\n",
    "def resolve_references(doc):\n",
    "    token_mention_mapper = {}\n",
    "    output_string = \"\"\n",
    "    clusters = [val for key, val in doc.spans.items() if key.startswith(\"coref_cluster\")]\n",
    "\n",
    "    for cluster in clusters:\n",
    "        first_mention = cluster[0]\n",
    "        for mention_span in list(cluster)[1:]:\n",
    "            token_mention_mapper[mention_span[0].idx] = first_mention.text + mention_span[0].whitespace_\n",
    "            \n",
    "            for token in mention_span[1:]:\n",
    "                token_mention_mapper[token.idx] = \"\"\n",
    "    for token in doc:\n",
    "        if token.idx in token_mention_mapper:\n",
    "            output_string += token_mention_mapper[token.idx]\n",
    "        else:\n",
    "            output_string += token.text + token.whitespace_\n",
    "\n",
    "    return output_string\n",
    "\n",
    "resolved_string = resolve_references(doc)\n",
    "print(resolved_string)"
   ]
  },
  {
   "cell_type": "code",
   "execution_count": 57,
   "id": "d99e5079-9911-408b-927d-bb555380335c",
   "metadata": {},
   "outputs": [
    {
     "name": "stdout",
     "output_type": "stream",
     "text": [
      "Bosch - 3 - 8 - ORG - Companies, agencies, institutions, etc.\n",
      "Bosch - 10 - 15 - ORG - Companies, agencies, institutions, etc.\n",
      "Bosch - 39 - 44 - ORG - Companies, agencies, institutions, etc.\n",
      "40% - 88 - 91 - PERCENT - Percentage, including \"%\"\n"
     ]
    },
    {
     "data": {
      "text/plain": [
       "'At ORG, ORG do things differently. ORG intends to increase workforce diversity by 40%'"
      ]
     },
     "execution_count": 57,
     "metadata": {},
     "output_type": "execute_result"
    }
   ],
   "source": [
    "# Perform standard imports\n",
    "import spacy\n",
    "nlp = spacy.load('en_core_web_trf')\n",
    "ner_op_string = resolved_string\n",
    "\n",
    "# Write a function to display basic entity info:\n",
    "def show_ents(doc):\n",
    "    global ner_op_string\n",
    "    if doc.ents:\n",
    "        for ent in doc.ents:\n",
    "            print(ent.text+' - ' +str(ent.start_char) +' - '+ str(ent.end_char) +' - '+ent.label_+ ' - '+str(spacy.explain(ent.label_)))\n",
    "            if ent.label_ == 'ORG':\n",
    "                word_length = ent.end_char - ent.start_char\n",
    "                ner_op_string = ner_op_string[:ent.start_char] + 'O'*(word_length) + ner_op_string[ent.end_char:]\n",
    "    else:\n",
    "        print('No named entities found.')\n",
    "    return ner_op_string\n",
    "    \n",
    "doc = nlp(resolved_string)\n",
    "show_ents(doc)\n",
    "ner_op_string = re.sub(r'O{2,}', 'ORG',ner_op_string)\n",
    "ner_op_string"
   ]
  }
 ],
 "metadata": {
  "kernelspec": {
   "display_name": "Python 3 (ipykernel)",
   "language": "python",
   "name": "python3"
  },
  "language_info": {
   "codemirror_mode": {
    "name": "ipython",
    "version": 3
   },
   "file_extension": ".py",
   "mimetype": "text/x-python",
   "name": "python",
   "nbconvert_exporter": "python",
   "pygments_lexer": "ipython3",
   "version": "3.9.6"
  }
 },
 "nbformat": 4,
 "nbformat_minor": 5
}
