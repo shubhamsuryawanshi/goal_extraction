{
 "cells": [
  {
   "cell_type": "code",
   "execution_count": 52,
   "id": "30063d1d-5d6c-48c7-92ab-f7f4214d146f",
   "metadata": {},
   "outputs": [],
   "source": [
    "import spacy\n",
    "from spacy.tokens import Doc\n",
    "import re"
   ]
  },
  {
   "cell_type": "code",
   "execution_count": 53,
   "id": "fc833b2d-0eb1-496b-b53a-7b8820a100f2",
   "metadata": {},
   "outputs": [
    {
     "name": "stdout",
     "output_type": "stream",
     "text": [
      "At Bosch, diversity is a fundamental pillar. Bosch intends to increase Bosch workforce diversity by 40%. Bosch had promised the same last year\n"
     ]
    }
   ],
   "source": [
    "# input_string = 'Diversity in workforce is important. We are aware that legal and cultural requirements can vary in a global market. Continental expects all of our suppliers to be guided by fairness, honesty and responsibility in all aspects of their business. Our supplier code establishes important standards that match the Continental corporate values. Every supplier must comply strictly with these standards. We use them to define requirements for good working conditions, then check compliance with these requirements through our on-site audits.'\n",
    "# input_string = 'At Bosch, diversity is a fundamental pillar. The company will increase its workforce diversity by 40%'\n",
    "input_string = 'At Bosch, diversity is a fundamental pillar. The company intends to increase its workforce diversity by 40%. The company had promised the same last year'\n",
    "\n",
    "# input_string = 'As a global financial institution, Deutsche Bank operates in various countries, each of which imposes its own regulations (often with extra- territorial implications). These define how we operate, as well as our conduct, behavior, and standards to which we must adhere. Our strategy and execution model is affected by different political environments and a large number of regulatory requirements. We remain continually aware of these forces that influence our business, and we engage in political and regulatory decisions. This is fundamental to understanding wider political developments and the evolution of the regulatory environment, as well as fostering stakeholder trust. In recent times, international and national political systems have shown signs of fragmentation. This directly affects our business model. In 2017 alone, we saw crucial elections in France, the UK, and Germany, as well as a new US government whose Con- gress passed a comprehensive tax reform that had an immediate impact on our US tax position. The UK has formally declared its exit from the EU, and negotiations are under way. This will have repercussions on our structure, operations, client relationships, and staffing. Furthermore, wider political developments in the Euro zone (such as important national elections) will impact the stability of financial markets, market prices, and long-term investment decisions by companies. All of this affects our entire value chain.'\n",
    "\n",
    "coref_model = spacy.load('en_coreference_web_trf')\n",
    "doc = coref_model(input_string) \n",
    "\n",
    "def resolve_references(doc):\n",
    "    token_mention_mapper = {}\n",
    "    output_string = ''\n",
    "    clusters = [val for key, val in doc.spans.items() if key.startswith('coref_cluster')]\n",
    "\n",
    "    for cluster in clusters:\n",
    "        first_mention = cluster[0]\n",
    "        for mention_span in list(cluster)[1:]:\n",
    "            token_mention_mapper[mention_span[0].idx] = first_mention.text + mention_span[0].whitespace_\n",
    "            for token in mention_span[1:]:\n",
    "                token_mention_mapper[token.idx] = ''\n",
    "\n",
    "    for token in doc:\n",
    "        if token.idx in token_mention_mapper:\n",
    "            output_string += token_mention_mapper[token.idx]\n",
    "        else:\n",
    "            output_string += token.text + token.whitespace_\n",
    "\n",
    "    return output_string\n",
    "\n",
    "resolved_string = resolve_references(doc)\n",
    "print(resolved_string)"
   ]
  },
  {
   "cell_type": "code",
   "execution_count": 54,
   "id": "d99e5079-9911-408b-927d-bb555380335c",
   "metadata": {},
   "outputs": [
    {
     "name": "stdout",
     "output_type": "stream",
     "text": [
      "At ORG, diversity is a fundamental pillar. ORG intends to increase ORG workforce diversity by 40%. ORG had promised the same last year\n"
     ]
    }
   ],
   "source": [
    "spacy_core = spacy.load('en_core_web_trf')\n",
    "ner_op_string = resolved_string\n",
    "\n",
    "def show_ents(doc):\n",
    "    global ner_op_string\n",
    "    \n",
    "    if doc.ents:\n",
    "        \n",
    "        for ent in doc.ents:\n",
    "            # print(ent.text+' - ' +str(ent.start_char) +' - '+ str(ent.end_char) +' - '+ent.label_+ ' - '+str(spacy.explain(ent.label_)))\n",
    "            \n",
    "            if ent.label_ == 'ORG':\n",
    "                word_length = ent.end_char - ent.start_char\n",
    "                ner_op_string = ner_op_string[:ent.start_char] + 'O'*(word_length) + ner_op_string[ent.end_char:]\n",
    "    \n",
    "    else:\n",
    "        print('No named entities found.')\n",
    "    \n",
    "    return ner_op_string\n",
    "\n",
    "doc = spacy_core(resolved_string)\n",
    "show_ents(doc)\n",
    "ner_op_string = re.sub(r'O{2,}', 'ORG',ner_op_string)\n",
    "print(ner_op_string)"
   ]
  },
  {
   "cell_type": "code",
   "execution_count": 55,
   "id": "5a7aadc3-92a3-4ed0-bae8-f5a3678a8067",
   "metadata": {},
   "outputs": [
    {
     "name": "stdout",
     "output_type": "stream",
     "text": [
      "At ORG, diversity is a fundamental pillar. ORG intends to increase ORG workforce diversity by 40%. ORG had promised the same last year\n"
     ]
    }
   ],
   "source": [
    "# def get_goals(ner_op_string):\n",
    "#     temp_list = ner_op_string.split('. ')\n",
    "#     return '. '.join(list(filter(lambda x: 'ORG' in x, temp_list)))\n",
    "\n",
    "# print(get_org_sentences(ner_op_string))"
   ]
  },
  {
   "cell_type": "code",
   "execution_count": 56,
   "id": "20c55cff-db09-44b6-8b2c-94fadf68fdf4",
   "metadata": {},
   "outputs": [],
   "source": [
    "# # print(f'{token.text:{8}} {token.ent_type_:{8}} {token.pos_:{6}} {token.tag_:{6}} {token.dep_:{6}} {spacy.explain(token.pos_):{20}} {spacy.explain(token.tag_)}')\n",
    "# for token in doc:\n",
    "#     print(f'{token.text:{15}} {token.ent_type_:{8}} {token.pos_:{6}} {list(token.morph)}')"
   ]
  },
  {
   "cell_type": "code",
   "execution_count": 57,
   "id": "09243c12-300d-4a7a-8c0a-dd07ebcf7946",
   "metadata": {},
   "outputs": [
    {
     "data": {
      "text/plain": [
       "('VBD', 'VBN')"
      ]
     },
     "execution_count": 57,
     "metadata": {},
     "output_type": "execute_result"
    }
   ],
   "source": [
    "# 'VBD', 'VBN'"
   ]
  },
  {
   "cell_type": "code",
   "execution_count": 59,
   "id": "2f0a6c45-95ed-4356-b3ea-8bcc2cb27727",
   "metadata": {},
   "outputs": [
    {
     "data": {
      "text/plain": [
       "At Bosch, diversity is a fundamental pillar. Bosch intends to increase Bosch workforce diversity by 40%. Bosch had promised the same last year"
      ]
     },
     "execution_count": 59,
     "metadata": {},
     "output_type": "execute_result"
    }
   ],
   "source": [
    "doc"
   ]
  },
  {
   "cell_type": "code",
   "execution_count": 58,
   "id": "c7c419f6-6e63-4ea0-af84-49a23c8dc544",
   "metadata": {},
   "outputs": [
    {
     "name": "stdout",
     "output_type": "stream",
     "text": [
      "At                       ADP    IN\n",
      "Bosch           ORG      PROPN  NNP\n",
      ",                        PUNCT  ,\n",
      "diversity                NOUN   NN\n",
      "is                       AUX    VBZ\n",
      "a                        DET    DT\n",
      "fundamental              ADJ    JJ\n",
      "pillar                   NOUN   NN\n",
      ".                        PUNCT  .\n",
      "Bosch           ORG      PROPN  NNP\n",
      "intends                  VERB   VBZ\n",
      "to                       PART   TO\n",
      "increase                 VERB   VB\n",
      "Bosch           ORG      PROPN  NNP\n",
      "workforce                NOUN   NN\n",
      "diversity                NOUN   NN\n",
      "by                       ADP    IN\n",
      "40              PERCENT  NUM    CD\n",
      "%               PERCENT  PUNCT  .\n",
      ".                        PUNCT  .\n",
      "Bosch           ORG      PROPN  NNP\n",
      "had                      AUX    VBD\n",
      "promised                 VERB   VBN\n",
      "the                      DET    DT\n",
      "same                     ADJ    JJ\n",
      "last            DATE     ADJ    JJ\n",
      "year            DATE     NOUN   NN\n"
     ]
    }
   ],
   "source": [
    "for token in doc:\n",
    "    print(f'{token.text:{15}} {token.ent_type_:{8}} {token.pos_:{6}} {token.tag_}')"
   ]
  },
  {
   "cell_type": "code",
   "execution_count": 80,
   "id": "b07b37aa-2dd8-4fcd-bb0e-f18cf972642d",
   "metadata": {},
   "outputs": [
    {
     "name": "stdout",
     "output_type": "stream",
     "text": [
      "['', 'ORG', '', '', '', '', '', '', '']\n",
      "['ORG', '', '', '', 'ORG', '', '', '', 'PERCENT', 'PERCENT', '']\n",
      "['ORG', '', '', '', '', 'DATE', 'DATE']\n"
     ]
    }
   ],
   "source": [
    "for i in doc.sents:\n",
    "    ner_tags = [j.ent_type_ for j in i]\n",
    "    if 'ORG' in ner_tags\n",
    "    print(ner_tags)\n",
    "    # print(org_sents)"
   ]
  }
 ],
 "metadata": {
  "kernelspec": {
   "display_name": "Python 3 (ipykernel)",
   "language": "python",
   "name": "python3"
  },
  "language_info": {
   "codemirror_mode": {
    "name": "ipython",
    "version": 3
   },
   "file_extension": ".py",
   "mimetype": "text/x-python",
   "name": "python",
   "nbconvert_exporter": "python",
   "pygments_lexer": "ipython3",
   "version": "3.9.6"
  },
  "vscode": {
   "interpreter": {
    "hash": "25bdac3ce80f51322238444d1c3aee85694d9fc1f29af57a73a70ccd6f0c6c1e"
   }
  }
 },
 "nbformat": 4,
 "nbformat_minor": 5
}
